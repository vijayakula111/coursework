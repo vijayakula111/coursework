{
 "cells": [
  {
   "cell_type": "code",
   "execution_count": 1,
   "metadata": {
    "collapsed": false
   },
   "outputs": [
    {
     "data": {
      "text/plain": [
       "['year,month,date_of_month,day_of_week,births',\n",
       " '1994,1,1,6,8096',\n",
       " '1994,1,2,7,7772',\n",
       " '1994,1,3,1,10142',\n",
       " '1994,1,4,2,11248',\n",
       " '1994,1,5,3,11053',\n",
       " '1994,1,6,4,11406',\n",
       " '1994,1,7,5,11251',\n",
       " '1994,1,8,6,8653',\n",
       " '1994,1,9,7,7910']"
      ]
     },
     "execution_count": 1,
     "metadata": {},
     "output_type": "execute_result"
    }
   ],
   "source": [
    "data_raw = open(\"US_births_1994-2003_CDC_NCHS.csv\", 'r').read()\n",
    "data_split = data_raw.split('\\n')\n",
    "data_split[0:10]"
   ]
  },
  {
   "cell_type": "code",
   "execution_count": 4,
   "metadata": {
    "collapsed": false
   },
   "outputs": [
    {
     "data": {
      "text/plain": [
       "[[1994, 1, 1, 6, 8096],\n",
       " [1994, 1, 1, 6, 8096],\n",
       " [1994, 1, 1, 6, 8096],\n",
       " [1994, 1, 1, 6, 8096],\n",
       " [1994, 1, 1, 6, 8096],\n",
       " [1994, 1, 2, 7, 7772],\n",
       " [1994, 1, 2, 7, 7772],\n",
       " [1994, 1, 2, 7, 7772],\n",
       " [1994, 1, 2, 7, 7772],\n",
       " [1994, 1, 2, 7, 7772]]"
      ]
     },
     "execution_count": 4,
     "metadata": {},
     "output_type": "execute_result"
    }
   ],
   "source": [
    "def read_csv(input_file):\n",
    "    data_raw = open(input_file, 'r').read()\n",
    "    data_split = data_raw.split('\\n')\n",
    "    string_list = data_split[1:len(data_split)]\n",
    "    \n",
    "    final_list = []\n",
    "    for row in string_list:\n",
    "        int_fields = []\n",
    "        string_fields = row.split(',')\n",
    "        for each in string_fields:\n",
    "            int_fields.append(int(each))\n",
    "            final_list.append(int_fields)\n",
    "    return final_list\n",
    "\n",
    "cdc_list = read_csv(\"US_births_1994-2003_CDC_NCHS.csv\")\n",
    "\n",
    "cdc_list[0:10]"
   ]
  },
  {
   "cell_type": "code",
   "execution_count": 9,
   "metadata": {
    "collapsed": false
   },
   "outputs": [
    {
     "data": {
      "text/plain": [
       "{1: 16162585,\n",
       " 2: 15090700,\n",
       " 3: 16610345,\n",
       " 4: 15926570,\n",
       " 5: 16754535,\n",
       " 6: 16482650,\n",
       " 7: 17493915,\n",
       " 8: 17629290,\n",
       " 9: 17198490,\n",
       " 10: 16894070,\n",
       " 11: 15858235,\n",
       " 12: 16509300}"
      ]
     },
     "execution_count": 9,
     "metadata": {},
     "output_type": "execute_result"
    }
   ],
   "source": [
    "def month_births(input_data):\n",
    "    births_per_month = {}\n",
    "    for row in input_data:\n",
    "        if row[1] in births_per_month:\n",
    "            births_per_month[row[1]] += row[4]\n",
    "        else:\n",
    "            births_per_month[row[1]] = row[4]\n",
    "    return births_per_month\n",
    "\n",
    "cdc_month_births = month_births(cdc_list)\n",
    "cdc_month_births"
   ]
  },
  {
   "cell_type": "code",
   "execution_count": 10,
   "metadata": {
    "collapsed": false
   },
   "outputs": [
    {
     "data": {
      "text/plain": [
       "{1: 28945830,\n",
       " 2: 32230980,\n",
       " 3: 31614275,\n",
       " 4: 31442145,\n",
       " 5: 31168285,\n",
       " 6: 22810555,\n",
       " 7: 20398615}"
      ]
     },
     "execution_count": 10,
     "metadata": {},
     "output_type": "execute_result"
    }
   ],
   "source": [
    "def dow_births(input_data):\n",
    "    births_per_weekday = {}\n",
    "    for row in input_data:\n",
    "        if row[3] in births_per_weekday:\n",
    "            births_per_weekday[row[3]] += row[4]\n",
    "        else:\n",
    "            births_per_weekday[row[3]] = row[4]\n",
    "    return births_per_weekday\n",
    "\n",
    "cdc_day_births = dow_births(cdc_list)\n",
    "cdc_day_births"
   ]
  },
  {
   "cell_type": "code",
   "execution_count": 12,
   "metadata": {
    "collapsed": false
   },
   "outputs": [
    {
     "name": "stdout",
     "output_type": "stream",
     "text": [
      "{2000: 20294070, 2001: 20129665, 2002: 20108630, 2003: 20449750, 1994: 19763835, 1995: 19497945, 1996: 19457470, 1997: 19404470, 1998: 19707765, 1999: 19797085}\n",
      "{1: 16162585, 2: 15090700, 3: 16610345, 4: 15926570, 5: 16754535, 6: 16482650, 7: 17493915, 8: 17629290, 9: 17198490, 10: 16894070, 11: 15858235, 12: 16509300}\n",
      "{1: 6382785, 2: 6443695, 3: 6522495, 4: 6440770, 5: 6499765, 6: 6522370, 7: 6552295, 8: 6561485, 9: 6516460, 10: 6603820, 11: 6571805, 12: 6592185, 13: 6388420, 14: 6600765, 15: 6595855, 16: 6575960, 17: 6624765, 18: 6634275, 19: 6593635, 20: 6624105, 21: 6614485, 22: 6586905, 23: 6466450, 24: 6440415, 25: 6360580, 26: 6423980, 27: 6471975, 28: 6538425, 29: 6115805, 30: 6010475, 31: 3733480}\n",
      "{1: 28945830, 2: 32230980, 3: 31614275, 4: 31442145, 5: 31168285, 6: 22810555, 7: 20398615}\n"
     ]
    }
   ],
   "source": [
    "def calc_counts(input_data, column):\n",
    "    counts_per_unique_value = {}\n",
    "    for row in input_data:\n",
    "        if row[column] in counts_per_unique_value:\n",
    "            counts_per_unique_value[row[column]] += row[4]\n",
    "        else:\n",
    "            counts_per_unique_value[row[column]] = row[4]\n",
    "    return counts_per_unique_value\n",
    "\n",
    "cdc_year_births = calc_counts(cdc_list, 0)\n",
    "cdc_month_births = calc_counts(cdc_list, 1)\n",
    "cdc_dom_births = calc_counts(cdc_list, 2)\n",
    "cdc_dow_births = calc_counts(cdc_list, 3)\n",
    "\n",
    "print(cdc_year_births)\n",
    "print(cdc_month_births)\n",
    "print(cdc_dom_births)\n",
    "print(cdc_dow_births)"
   ]
  },
  {
   "cell_type": "code",
   "execution_count": 31,
   "metadata": {
    "collapsed": false
   },
   "outputs": [
    {
     "data": {
      "text/plain": [
       "((2, 32230980), (7, 20398615))"
      ]
     },
     "execution_count": 31,
     "metadata": {},
     "output_type": "execute_result"
    }
   ],
   "source": [
    "def calc_min_max(input_dict):\n",
    "    max = 0\n",
    "    for key, val in input_dict.items():\n",
    "        if val > max:\n",
    "            max = val\n",
    "            max_data = (key, max)\n",
    "    min = max\n",
    "    for key, val in input_dict.items():\n",
    "        if val < min:\n",
    "            min = val\n",
    "            min_data = (key, min)\n",
    "            \n",
    "    return max_data, min_data\n",
    "\n",
    "max__min_val = calc_min_max(cdc_dow_births)\n",
    "max_val"
   ]
  },
  {
   "cell_type": "code",
   "execution_count": null,
   "metadata": {
    "collapsed": true
   },
   "outputs": [],
   "source": []
  }
 ],
 "metadata": {
  "anaconda-cloud": {},
  "kernelspec": {
   "display_name": "Python 3",
   "language": "python",
   "name": "python3"
  },
  "language_info": {
   "codemirror_mode": {
    "name": "ipython",
    "version": 3
   },
   "file_extension": ".py",
   "mimetype": "text/x-python",
   "name": "python",
   "nbconvert_exporter": "python",
   "pygments_lexer": "ipython3",
   "version": "3.4.3"
  }
 },
 "nbformat": 4,
 "nbformat_minor": 1
}
